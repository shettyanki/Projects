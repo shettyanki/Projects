{
 "cells": [
  {
   "cell_type": "markdown",
   "metadata": {},
   "source": [
    "# HomeWork 1 -Sentiment Analysis on Twitter"
   ]
  },
  {
   "cell_type": "markdown",
   "metadata": {},
   "source": [
    "## Word Used: Trump"
   ]
  },
  {
   "cell_type": "code",
   "execution_count": 1,
   "metadata": {},
   "outputs": [],
   "source": [
    "import re"
   ]
  },
  {
   "cell_type": "code",
   "execution_count": 2,
   "metadata": {},
   "outputs": [],
   "source": [
    "# print all the outputs in a cell\n",
    "from IPython.core.interactiveshell import InteractiveShell\n",
    "InteractiveShell.ast_node_interactivity = \"all\""
   ]
  },
  {
   "cell_type": "code",
   "execution_count": 3,
   "metadata": {},
   "outputs": [
    {
     "data": {
      "application/javascript": [
       "IPython.notebook.set_autosave_interval(100000)"
      ]
     },
     "metadata": {},
     "output_type": "display_data"
    },
    {
     "name": "stdout",
     "output_type": "stream",
     "text": [
      "Autosaving every 100 seconds\n"
     ]
    }
   ],
   "source": [
    "%autosave 100"
   ]
  },
  {
   "cell_type": "code",
   "execution_count": 4,
   "metadata": {},
   "outputs": [],
   "source": [
    "#Assign the file name to variable file name; You can give your file name here\n",
    "filename=\"Trump.txt\""
   ]
  },
  {
   "cell_type": "code",
   "execution_count": 5,
   "metadata": {},
   "outputs": [],
   "source": [
    "#open the txt file using Open \n",
    "tweet_file = open(filename,'r')"
   ]
  },
  {
   "cell_type": "code",
   "execution_count": 6,
   "metadata": {},
   "outputs": [],
   "source": [
    "#Read the file convert it to lower case and assign it to a string variable\n",
    "tweet_str= tweet_file.read().lower()\n",
    "tweet_file.close()"
   ]
  },
  {
   "cell_type": "markdown",
   "metadata": {},
   "source": [
    "Clean the tweet string:"
   ]
  },
  {
   "cell_type": "code",
   "execution_count": 7,
   "metadata": {},
   "outputs": [],
   "source": [
    "#cleanTweet a function to clean tweets; \n",
    "#1st change the UTF-8 literal in text to character.\n",
    "#Done for only - and ',Since these are part of few of the positive/negative/stop word list;Example:best-known\n",
    "def cleanTweet(text):\n",
    "    cleanText = (text.\n",
    "            replace('\\\\xe2\\\\x80\\\\x99', \"'\").\n",
    "            replace('\\\\xe2\\\\x80\\\\x90', '-').\n",
    "            replace('\\\\xe2\\\\x80\\\\x91', '-').\n",
    "            replace('\\\\xe2\\\\x80\\\\x92', '-').\n",
    "            replace('\\\\xe2\\\\x80\\\\x93', '-').\n",
    "            replace('\\\\xe2\\\\x80\\\\x94', '-').\n",
    "            replace('\\\\xe2\\\\x80\\\\x94', '-').\n",
    "            replace('\\\\xe2\\\\x81\\\\xbb', \"-\").\n",
    "            replace('\\\\xe2\\\\x80\\\\x98', \"'\").\n",
    "            replace('\\\\xe2\\\\x80\\\\x9b', \"'\").\n",
    "            replace('\\\\xe2\\\\x80\\\\xb2', \"'\").\n",
    "            replace('\\\\xe2\\\\x80\\\\xb3', \"'\").\n",
    "            replace('\\\\xe2\\\\x80\\\\xb4', \"'\").\n",
    "            replace('\\\\xe2\\\\x80\\\\xb5', \"'\").\n",
    "            replace('\\\\xe2\\\\x80\\\\xb6', \"'\").\n",
    "            replace('\\\\xe2\\\\x80\\\\xb7', \"'\")\n",
    "            )\n",
    "    #removing other unnessecary UTF-8 literal values\n",
    "    cleanText = re.sub(\"\\\\\\\\x[a-z0-9]{2}\\\\\\\\x[a-z0-9]{2}\\\\\\\\x[a-z0-9]{2}\",\"\", cleanText)\n",
    "    #remove URLs and websites\n",
    "    cleanText = re.sub(r\"http\\S+\", \"\", cleanText)\n",
    "    cleanText = re.sub(r\"www.\\S+\", \"\", cleanText)\n",
    "    #remove retweets (rt)\n",
    "    cleanText = re.sub(\"[\\\"']*b[\\\"']rt @[A-Za-z0-9_]+:\",\"\", cleanText)\n",
    "    cleanText = re.sub(\"[\\\"']b[\\\"']@[A-Za-z0-9_]+\",\"\", cleanText)\n",
    "    #remove twitter mentions (starts with @)\n",
    "    cleanText = re.sub(\"@[A-Za-z0-9_]+\",\"\", cleanText)\n",
    "    #Hastag clean up: Remove the Hash(#)symbol but keep the words\n",
    "    cleanText = re.sub(\"#\",\"\", cleanText)\n",
    "    cleanText = re.sub(\"[0-9]*\",\"\",cleanText)\n",
    "    #other unnessesary characters\n",
    "    cleanText = re.sub(\"[\\\"\\b]\",\"\",cleanText)\n",
    "    cleanText=cleanText.replace(\"b'rt\",'')\n",
    "    cleanText=cleanText.replace(\"b'\",\"\")\n",
    "    cleanText=cleanText.replace(\"\\\\n\",\" \")\n",
    "    return cleanText"
   ]
  },
  {
   "cell_type": "code",
   "execution_count": 8,
   "metadata": {},
   "outputs": [],
   "source": [
    "#Call the cleanTweet function to get the cleaned string and split it to words by space\n",
    "tweet_str=cleanTweet(tweet_str)"
   ]
  },
  {
   "cell_type": "code",
   "execution_count": 9,
   "metadata": {},
   "outputs": [],
   "source": [
    "#add cleaned item to the list\n",
    "tweet_list=[]\n",
    "for item in tweet_str.split():\n",
    "    #for each item in the list strip the punctuations\n",
    "    item=item.strip('[()\\',!?.%\":]')\n",
    "    #Add item to list if not null\n",
    "    if(item):\n",
    "        tweet_list.append(item)"
   ]
  },
  {
   "cell_type": "code",
   "execution_count": 10,
   "metadata": {},
   "outputs": [
    {
     "data": {
      "text/plain": [
       "['inflation',\n",
       " 'always',\n",
       " 'comes',\n",
       " 'even',\n",
       " 'higher',\n",
       " 'crime',\n",
       " 'the',\n",
       " 'democrats',\n",
       " 'already']"
      ]
     },
     "execution_count": 10,
     "metadata": {},
     "output_type": "execute_result"
    }
   ],
   "source": [
    "#check few items of the list\n",
    "tweet_list[1:10]"
   ]
  },
  {
   "cell_type": "markdown",
   "metadata": {},
   "source": [
    "#### Open the files (positive ,negative ,stop )  and add the values to a list"
   ]
  },
  {
   "cell_type": "code",
   "execution_count": 11,
   "metadata": {
    "scrolled": true
   },
   "outputs": [],
   "source": [
    "#open positive file and add the add the words to a list\n",
    "positive_file = open('positive.txt','r')\n",
    "positive_list=positive_file.read().lower().split()\n",
    "positive_file.close()"
   ]
  },
  {
   "cell_type": "code",
   "execution_count": 12,
   "metadata": {},
   "outputs": [],
   "source": [
    "#open negative file and add the add the words to a list\n",
    "negative_file = open('negative.txt','r')\n",
    "negative_list=negative_file.read().lower().split()\n",
    "negative_file.close()"
   ]
  },
  {
   "cell_type": "code",
   "execution_count": 13,
   "metadata": {},
   "outputs": [],
   "source": [
    "#open stop file and add the add the words to a list\n",
    "stop_file = open('stop.txt','r')\n",
    "stop_list=stop_file.read().lower().split()\n",
    "stop_file.close()"
   ]
  },
  {
   "cell_type": "code",
   "execution_count": 14,
   "metadata": {},
   "outputs": [],
   "source": [
    "#Remove the '.txt' from the file name and use this string for comparison operation later\n",
    "filename=filename.replace('.txt','').lower()"
   ]
  },
  {
   "cell_type": "markdown",
   "metadata": {},
   "source": [
    "#### Count the positive,negative,stop and other words in the list"
   ]
  },
  {
   "cell_type": "code",
   "execution_count": 15,
   "metadata": {},
   "outputs": [],
   "source": [
    "#variable pos,neg,stop and others with count the number of positive,negative,stop and other words respectively.\n",
    "pos=0\n",
    "neg=0\n",
    "stop=0\n",
    "other=0\n",
    "fnameCount=0\n",
    "for item in tweet_list:\n",
    "    if (item==filename):\n",
    "        fnameCount=fnameCount+1\n",
    "    elif (item in positive_list):\n",
    "        pos=pos+1\n",
    "    elif(item in negative_list):\n",
    "        neg=neg+1\n",
    "    elif(item in stop_list):\n",
    "        stop=stop+1\n",
    "    else:\n",
    "        other=other+1"
   ]
  },
  {
   "cell_type": "code",
   "execution_count": 16,
   "metadata": {},
   "outputs": [],
   "source": [
    "#The total word count\n",
    "tweetList_Len=len(tweet_list)"
   ]
  },
  {
   "cell_type": "markdown",
   "metadata": {},
   "source": [
    "### Scenario 1: First count 'trump' (or the word you picked)as a normal positive word then do the count and produce the ratio\n",
    "The word count and ratios:"
   ]
  },
  {
   "cell_type": "code",
   "execution_count": 17,
   "metadata": {},
   "outputs": [
    {
     "name": "stdout",
     "output_type": "stream",
     "text": [
      " The total words in the file is:9230\n",
      " The total positive words in the file:634\n",
      " The The total negative words in the file:448 \n",
      " The total stop words in the file:3482\n",
      " The total other words in the file:4666\n",
      "\n",
      " The ratio of positive to whole word count is 0.07 \n",
      " The ratio of negative to whole word count is 0.05 \n",
      " The ratio of stop to whole word count is 0.38 \n",
      " The ratio of other to whole word count is 0.51\n"
     ]
    }
   ],
   "source": [
    "#consider trump as positive word then it shall be added with positive word count\n",
    "print(\" The total words in the file is:%d\\n The total positive words in the file:%d\\\n",
    "\\n The The total negative words in the file:%d \\n The total stop words in the file:%d\\\n",
    "\\n The total other words in the file:%d\"%(tweetList_Len,pos+fnameCount,neg,stop,other))\n",
    "\n",
    "\n",
    "#Print the ratios of the positive(including trump),negative, stop and other words with respect to total words\n",
    "print ('\\n The ratio of positive to whole word count is %.2f \\\n",
    "\\n The ratio of negative to whole word count is %.2f \\\n",
    "\\n The ratio of stop to whole word count is %.2f \\\n",
    "\\n The ratio of other to whole word count is %.2f' %(((pos+fnameCount)/tweetList_Len),(neg/tweetList_Len),\\\n",
    "                                                  (stop/tweetList_Len),(other/tweetList_Len)))\n"
   ]
  },
  {
   "cell_type": "code",
   "execution_count": 18,
   "metadata": {},
   "outputs": [
    {
     "name": "stdout",
     "output_type": "stream",
     "text": [
      "The total count of positive and negative words 1082\n"
     ]
    }
   ],
   "source": [
    "#total count of positive and negative words(considering trump as positive)\n",
    "print(\"The total count of positive and negative words\",fnameCount+pos+neg)"
   ]
  },
  {
   "cell_type": "markdown",
   "metadata": {},
   "source": [
    "#### Display the tweet sentiment:"
   ]
  },
  {
   "cell_type": "code",
   "execution_count": 19,
   "metadata": {},
   "outputs": [
    {
     "name": "stdout",
     "output_type": "stream",
     "text": [
      "The general sentiment is POSITIVE!!\n"
     ]
    }
   ],
   "source": [
    "#if the positive word count is greater than negative then it is a positive sentiment tweet\n",
    "if((fnameCount+pos)-neg>0):\n",
    "    print(\"The general sentiment is POSITIVE!!\")\n",
    "else:    \n",
    "    print(\"The general sentiment is NEGATIVE!!\")"
   ]
  },
  {
   "cell_type": "markdown",
   "metadata": {},
   "source": [
    "### Scenario 2: Skip the 'trump' during the word count,produce the positive/negative/stop/others ratios,\n",
    "The word count and ratios:"
   ]
  },
  {
   "cell_type": "code",
   "execution_count": 20,
   "metadata": {},
   "outputs": [
    {
     "name": "stdout",
     "output_type": "stream",
     "text": [
      " The total words in the file is:9230\n",
      " The total positive words in the file:280\n",
      " The The total negative words in the file:448 \n",
      " The total stop words in the file:3482\n",
      " The total other words in the file:4666\n",
      "\n",
      " The ratio of positive to whole word count is 0.03 \n",
      " The ratio of negative to whole word count is 0.05 \n",
      " The ratio of stop to whole word count is 0.38 \n",
      " The ratio of other to whole word count is 0.51\n"
     ]
    }
   ],
   "source": [
    "print(\" The total words in the file is:%d\\n The total positive words in the file:%d\\\n",
    "\\n The The total negative words in the file:%d \\n The total stop words in the file:%d\\\n",
    "\\n The total other words in the file:%d\"%(tweetList_Len,pos,neg,stop,other))\n",
    "\n",
    "\n",
    "#Print the ratios of the positive,negative, stop and other words with respect to total words\n",
    "print ('\\n The ratio of positive to whole word count is %.2f \\\n",
    "\\n The ratio of negative to whole word count is %.2f \\\n",
    "\\n The ratio of stop to whole word count is %.2f \\\n",
    "\\n The ratio of other to whole word count is %.2f' %(((pos)/tweetList_Len),(neg/tweetList_Len),\\\n",
    "                                                  (stop/tweetList_Len),(other/tweetList_Len)))"
   ]
  },
  {
   "cell_type": "code",
   "execution_count": 21,
   "metadata": {},
   "outputs": [
    {
     "name": "stdout",
     "output_type": "stream",
     "text": [
      "The total count of positive and negative words 728\n"
     ]
    }
   ],
   "source": [
    "#total count of positive and negative words (without considering trump as positive word)\n",
    "print(\"The total count of positive and negative words\",pos+neg)"
   ]
  },
  {
   "cell_type": "markdown",
   "metadata": {},
   "source": [
    "#### Display the tweet sentiment:"
   ]
  },
  {
   "cell_type": "code",
   "execution_count": 22,
   "metadata": {},
   "outputs": [
    {
     "name": "stdout",
     "output_type": "stream",
     "text": [
      "The general sentiment is NEGATIVE!!\n"
     ]
    }
   ],
   "source": [
    "#if the positive word count is greater than negative then it is a positive sentiment tweet\n",
    "if(pos-neg>0):\n",
    "    print(\"The general sentiment is POSITIVE!!\")\n",
    "else:    \n",
    "    print(\"The general sentiment is NEGATIVE!!\")"
   ]
  },
  {
   "cell_type": "code",
   "execution_count": null,
   "metadata": {},
   "outputs": [],
   "source": []
  }
 ],
 "metadata": {
  "kernelspec": {
   "display_name": "Python 3",
   "language": "python",
   "name": "python3"
  },
  "language_info": {
   "codemirror_mode": {
    "name": "ipython",
    "version": 3
   },
   "file_extension": ".py",
   "mimetype": "text/x-python",
   "name": "python",
   "nbconvert_exporter": "python",
   "pygments_lexer": "ipython3",
   "version": "3.8.8"
  }
 },
 "nbformat": 4,
 "nbformat_minor": 1
}
